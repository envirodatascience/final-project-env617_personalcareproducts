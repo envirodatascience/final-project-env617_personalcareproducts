{
  "nbformat": 4,
  "nbformat_minor": 0,
  "metadata": {
    "colab": {
      "provenance": [],
      "authorship_tag": "ABX9TyNe2HJVh4yG//QAjZBrFvLl",
      "include_colab_link": true
    },
    "kernelspec": {
      "name": "python3",
      "display_name": "Python 3"
    },
    "language_info": {
      "name": "python"
    }
  },
  "cells": [
    {
      "cell_type": "markdown",
      "metadata": {
        "id": "view-in-github",
        "colab_type": "text"
      },
      "source": [
        "<a href=\"https://colab.research.google.com/github/envirodatascience/final-project-env617_personalcareproducts/blob/main/wrds_esg_datasets_pull.ipynb\" target=\"_parent\"><img src=\"https://colab.research.google.com/assets/colab-badge.svg\" alt=\"Open In Colab\"/></a>"
      ]
    },
    {
      "cell_type": "markdown",
      "source": [
        "### Set up WRDS "
      ],
      "metadata": {
        "id": "xtVrfMJ4ljgd"
      }
    },
    {
      "cell_type": "code",
      "source": [
        "! pip install wrds"
      ],
      "metadata": {
        "colab": {
          "base_uri": "https://localhost:8080/"
        },
        "id": "Hl92hd1b-One",
        "outputId": "57bda74c-63d5-40ae-dd45-07af7ca746f8"
      },
      "execution_count": null,
      "outputs": [
        {
          "output_type": "stream",
          "name": "stdout",
          "text": [
            "Looking in indexes: https://pypi.org/simple, https://us-python.pkg.dev/colab-wheels/public/simple/\n",
            "Requirement already satisfied: wrds in /usr/local/lib/python3.9/dist-packages (3.1.6)\n",
            "Requirement already satisfied: numpy in /usr/local/lib/python3.9/dist-packages (from wrds) (1.22.4)\n",
            "Requirement already satisfied: pandas in /usr/local/lib/python3.9/dist-packages (from wrds) (1.5.3)\n",
            "Requirement already satisfied: scipy in /usr/local/lib/python3.9/dist-packages (from wrds) (1.10.1)\n",
            "Requirement already satisfied: sqlalchemy<2 in /usr/local/lib/python3.9/dist-packages (from wrds) (1.4.47)\n",
            "Requirement already satisfied: psycopg2-binary in /usr/local/lib/python3.9/dist-packages (from wrds) (2.9.6)\n",
            "Requirement already satisfied: greenlet!=0.4.17 in /usr/local/lib/python3.9/dist-packages (from sqlalchemy<2->wrds) (2.0.2)\n",
            "Requirement already satisfied: pytz>=2020.1 in /usr/local/lib/python3.9/dist-packages (from pandas->wrds) (2022.7.1)\n",
            "Requirement already satisfied: python-dateutil>=2.8.1 in /usr/local/lib/python3.9/dist-packages (from pandas->wrds) (2.8.2)\n",
            "Requirement already satisfied: six>=1.5 in /usr/local/lib/python3.9/dist-packages (from python-dateutil>=2.8.1->pandas->wrds) (1.16.0)\n"
          ]
        }
      ]
    },
    {
      "cell_type": "code",
      "source": [
        "# mount google drive\n",
        "from google.colab import drive\n",
        "drive.mount('/content/drive')"
      ],
      "metadata": {
        "id": "ltlk2SpLwAJq",
        "colab": {
          "base_uri": "https://localhost:8080/"
        },
        "outputId": "d892b31d-8500-46cb-97a8-766320f856a7"
      },
      "execution_count": null,
      "outputs": [
        {
          "output_type": "stream",
          "name": "stdout",
          "text": [
            "Drive already mounted at /content/drive; to attempt to forcibly remount, call drive.mount(\"/content/drive\", force_remount=True).\n"
          ]
        }
      ]
    },
    {
      "cell_type": "code",
      "source": [
        "import wrds\n",
        "import pandas as pd"
      ],
      "metadata": {
        "id": "UG_7LDY_yjtX"
      },
      "execution_count": null,
      "outputs": []
    },
    {
      "cell_type": "code",
      "execution_count": null,
      "metadata": {
        "id": "JjVbX-E07sAF",
        "colab": {
          "base_uri": "https://localhost:8080/"
        },
        "outputId": "3f2a7a49-8306-4cd2-fbcc-9e1255dde177"
      },
      "outputs": [
        {
          "output_type": "stream",
          "name": "stdout",
          "text": [
            "Enter your WRDS username [root]:zgeng\n",
            "Enter your password:··········\n",
            "WRDS recommends setting up a .pgpass file.\n",
            "Create .pgpass file now [y/n]?: y\n",
            "Created .pgpass file successfully.\n",
            "You can create this file yourself at any time with the create_pgpass_file() function.\n",
            "Loading library list...\n",
            "Done\n"
          ]
        }
      ],
      "source": [
        "# set up WRDS connection\n",
        "# un: zgeng\n",
        "# pwd : 7_gCXK8G+%U9rKw\n",
        "db = wrds.Connection()"
      ]
    },
    {
      "cell_type": "markdown",
      "source": [
        "#### list of wrds libraries"
      ],
      "metadata": {
        "id": "9NlOI3vtXnRV"
      }
    },
    {
      "cell_type": "code",
      "source": [
        "db.list_libraries()"
      ],
      "metadata": {
        "colab": {
          "base_uri": "https://localhost:8080/"
        },
        "id": "B0fSFEOuPoJp",
        "outputId": "c4ab2cd8-7584-43d9-cac7-fc7d7a318734"
      },
      "execution_count": null,
      "outputs": [
        {
          "output_type": "execute_result",
          "data": {
            "text/plain": [
              "['aha',\n",
              " 'aha_annual_survey_hist',\n",
              " 'aha_hcris_recent',\n",
              " 'aha_it_survey_recent',\n",
              " 'aha_sample',\n",
              " 'ahasamp',\n",
              " 'audit',\n",
              " 'audit_audit_comp',\n",
              " 'audit_common',\n",
              " 'audit_corp_legal',\n",
              " 'auditsmp',\n",
              " 'auditsmp_all',\n",
              " 'block',\n",
              " 'block_all',\n",
              " 'boardex_trial',\n",
              " 'boardsmp',\n",
              " 'calcbench_trial',\n",
              " 'calcbnch',\n",
              " 'cboe',\n",
              " 'cboe_all',\n",
              " 'ciq',\n",
              " 'ciq_capstrct',\n",
              " 'ciq_common',\n",
              " 'ciq_keydev',\n",
              " 'ciq_pplintel',\n",
              " 'ciq_ratings',\n",
              " 'ciq_transactions',\n",
              " 'ciqsamp',\n",
              " 'ciqsamp_common',\n",
              " 'ciqsamp_transcripts',\n",
              " 'columnar',\n",
              " 'comp',\n",
              " 'comp_bank',\n",
              " 'comp_bank_daily',\n",
              " 'comp_execucomp',\n",
              " 'comp_filings',\n",
              " 'comp_global',\n",
              " 'comp_global_daily',\n",
              " 'comp_na_annual_all',\n",
              " 'comp_na_daily_all',\n",
              " 'comp_na_monthly_all',\n",
              " 'comp_segments_hist',\n",
              " 'comp_segments_hist_daily',\n",
              " 'comp_snapshot',\n",
              " 'compa',\n",
              " 'compb',\n",
              " 'compg',\n",
              " 'compm',\n",
              " 'compsamp_snapshot',\n",
              " 'compseg',\n",
              " 'compsnap',\n",
              " 'contrib',\n",
              " 'contrib_as_filed_financials',\n",
              " 'contrib_ceo_turnover',\n",
              " 'contrib_char_returns',\n",
              " 'contrib_general',\n",
              " 'contrib_intangible_value',\n",
              " 'contrib_kpss',\n",
              " 'contrib_liva',\n",
              " 'crsp',\n",
              " 'crsp_a_ccm',\n",
              " 'crsp_a_indexes',\n",
              " 'crsp_a_stock',\n",
              " 'crsp_a_treasuries',\n",
              " 'crsp_a_ziman',\n",
              " 'crsp_q_mutualfunds',\n",
              " 'crsp_q_ziman',\n",
              " 'crspq',\n",
              " 'dealscan',\n",
              " 'djones',\n",
              " 'djones_all',\n",
              " 'dmef',\n",
              " 'dmef_all',\n",
              " 'doe',\n",
              " 'doe_all',\n",
              " 'etfg_samp',\n",
              " 'etfgsamp',\n",
              " 'eurekahedge_sample',\n",
              " 'eursamp',\n",
              " 'execcomp',\n",
              " 'factsamp_all',\n",
              " 'factsamp_revere',\n",
              " 'ff',\n",
              " 'ff_all',\n",
              " 'fisd',\n",
              " 'fisd_common',\n",
              " 'fisd_fisd',\n",
              " 'fisd_naic',\n",
              " 'fjc',\n",
              " 'fjc_linking',\n",
              " 'fjc_litigation',\n",
              " 'frb',\n",
              " 'frb_all',\n",
              " 'fssamp',\n",
              " 'gutenberg',\n",
              " 'hbase_sample',\n",
              " 'hbsamp',\n",
              " 'hfrsamp',\n",
              " 'hfrsamp_hfrdb',\n",
              " 'ibes',\n",
              " 'ifgr',\n",
              " 'ifgrsamp',\n",
              " 'ims_obp_trial',\n",
              " 'imssamp',\n",
              " 'infogroup_business_academic',\n",
              " 'infogroupsamp_residential',\n",
              " 'iss_va_vote_us',\n",
              " 'ktmine_patents_samp',\n",
              " 'ktsamp',\n",
              " 'lvnsamp',\n",
              " 'lvnsamp_all',\n",
              " 'macrofin',\n",
              " 'macrofin_comm_trade',\n",
              " 'markit',\n",
              " 'markit_cds',\n",
              " 'markit_cdxconst',\n",
              " 'markit_red',\n",
              " 'mfl',\n",
              " 'mflinks_all',\n",
              " 'midas',\n",
              " 'mrktsamp',\n",
              " 'mrktsamp_cds',\n",
              " 'mrktsamp_cdx',\n",
              " 'mrktsamp_msf',\n",
              " 'msrb',\n",
              " 'msrb_all',\n",
              " 'omtrial',\n",
              " 'optionm',\n",
              " 'optionm_all',\n",
              " 'optionmsamp_europe',\n",
              " 'optionmsamp_us',\n",
              " 'otc',\n",
              " 'otc_endofday',\n",
              " 'phlx',\n",
              " 'phlx_all',\n",
              " 'pitchsmp',\n",
              " 'ppubsamp',\n",
              " 'ppubsamp_d4d',\n",
              " 'preqin',\n",
              " 'preqin_pe',\n",
              " 'preqin_vc',\n",
              " 'preqsamp',\n",
              " 'preqsamp_all',\n",
              " 'public_all',\n",
              " 'pwt',\n",
              " 'pwt_all',\n",
              " 'reprisk',\n",
              " 'reprisk_sample',\n",
              " 'reprisk_v2',\n",
              " 'repsamp',\n",
              " 'risk',\n",
              " 'risksamp',\n",
              " 'risksamp_all',\n",
              " 'rq_all',\n",
              " 'sdc',\n",
              " 'secsamp',\n",
              " 'secsamp_all',\n",
              " 'snapsamp',\n",
              " 'snl',\n",
              " 'snl_fundamentals',\n",
              " 'snlsamp',\n",
              " 'snlsamp_fig',\n",
              " 'sp_esg',\n",
              " 'sustainalyticssamp_all',\n",
              " 'sustsamp',\n",
              " 'taqm_2013',\n",
              " 'taqm_2014',\n",
              " 'taqm_2015',\n",
              " 'taqm_2016',\n",
              " 'taqm_2017',\n",
              " 'taqm_2018',\n",
              " 'taqm_2019',\n",
              " 'taqm_2020',\n",
              " 'taqm_2021',\n",
              " 'taqm_2022',\n",
              " 'taqm_2023',\n",
              " 'taqmsamp',\n",
              " 'taqmsamp_all',\n",
              " 'taqmsec',\n",
              " 'taqsamp',\n",
              " 'tass',\n",
              " 'tfn',\n",
              " 'totalq',\n",
              " 'totalq_all',\n",
              " 'tr_13f',\n",
              " 'tr_common',\n",
              " 'tr_dealscan',\n",
              " 'tr_ds_comds',\n",
              " 'tr_ds_econ',\n",
              " 'tr_ds_equities',\n",
              " 'tr_ds_fut',\n",
              " 'tr_esg',\n",
              " 'tr_ibes',\n",
              " 'tr_insiders',\n",
              " 'tr_mutualfunds',\n",
              " 'tr_sdc_ma',\n",
              " 'tr_tass',\n",
              " 'tr_worldscope',\n",
              " 'trace',\n",
              " 'trace_enhanced',\n",
              " 'trace_standard',\n",
              " 'trcstsmp',\n",
              " 'trdssamp',\n",
              " 'trdstrm',\n",
              " 'tresg',\n",
              " 'trsamp_ds_eq',\n",
              " 'trsamp_dscom',\n",
              " 'trsamp_dsecon',\n",
              " 'trsamp_dsfut',\n",
              " 'trucost',\n",
              " 'trucost_carbon',\n",
              " 'trucost_common',\n",
              " 'trucost_environ',\n",
              " 'trucost_fossilfuel',\n",
              " 'trucost_paris',\n",
              " 'trucost_risk',\n",
              " 'trucost_samp',\n",
              " 'trucost_sector_ff',\n",
              " 'trucost_sector_revenue',\n",
              " 'trws',\n",
              " 'twoiq_samp',\n",
              " 'twoiqsmp',\n",
              " 'wappsamp',\n",
              " 'windsmp',\n",
              " 'wrds_lib_internal',\n",
              " 'wrdsapps',\n",
              " 'wrdsapps_backtest_basic',\n",
              " 'wrdsapps_backtest_plus',\n",
              " 'wrdsapps_bondret',\n",
              " 'wrdsapps_eushort',\n",
              " 'wrdsapps_evtstudy_lr',\n",
              " 'wrdsapps_finratio',\n",
              " 'wrdsapps_finratio_ccm',\n",
              " 'wrdsapps_finratio_ibes',\n",
              " 'wrdsapps_finratio_ibes_ccm',\n",
              " 'wrdsapps_link_comp_eushort',\n",
              " 'wrdsapps_link_crsp_bond',\n",
              " 'wrdsapps_link_crsp_factset',\n",
              " 'wrdsapps_link_crsp_ibes',\n",
              " 'wrdsapps_link_crsp_optionm',\n",
              " 'wrdsapps_link_crsp_taq',\n",
              " 'wrdsapps_link_datastream_wscope',\n",
              " 'wrdsapps_link_supplychain',\n",
              " 'wrdsapps_patents',\n",
              " 'wrdsapps_plink_exec_ciq',\n",
              " 'wrdsapps_plink_exec_trinsider',\n",
              " 'wrdsapps_plink_trinsider_ciq',\n",
              " 'wrdsapps_subsidiary',\n",
              " 'wrdsapps_windices',\n",
              " 'wrdsappssamp_all',\n",
              " 'wrdssec_midas',\n",
              " 'zacksamp',\n",
              " 'zacksamp_all']"
            ]
          },
          "metadata": {},
          "execution_count": 5
        }
      ]
    },
    {
      "cell_type": "markdown",
      "source": [
        "Methods in the wrds Module\n",
        "\n",
        "\n",
        "```\n",
        "db.close()\n",
        "db.connection()\n",
        "db.describe_table()\n",
        "db.get_table()\n",
        "db.list_tables()\n",
        "db.raw_sql()\n",
        "db.get_row_count()\n",
        "db.list_libraries()\n",
        "```\n",
        "\n"
      ],
      "metadata": {
        "id": "XCSM4ny_22A-"
      }
    },
    {
      "cell_type": "markdown",
      "source": [
        "### Personal Care companies"
      ],
      "metadata": {
        "id": "m-9xyWSglp0S"
      }
    },
    {
      "cell_type": "markdown",
      "source": [
        "#### Map company name to gvkey, cik, and other identifiers\n",
        "\n",
        "*   dataset: comp.companies\n",
        "*   industry id: 303020 for Personal Products\n",
        "\n",
        "\n",
        "\n",
        "\n",
        "\n"
      ],
      "metadata": {
        "id": "3qOblhfrm2Uk"
      }
    },
    {
      "cell_type": "code",
      "source": [
        "# Run query to understand dataset columns\n",
        "comp_tst = db.raw_sql(\"SELECT * FROM comp.company LIMIT 10\")"
      ],
      "metadata": {
        "id": "tvMKGf0zAayu"
      },
      "execution_count": null,
      "outputs": []
    },
    {
      "cell_type": "code",
      "source": [
        "comp_tst.head()"
      ],
      "metadata": {
        "colab": {
          "base_uri": "https://localhost:8080/",
          "height": 664
        },
        "id": "HVejXPmxfK5O",
        "outputId": "13e43cef-8942-43b2-d77a-80a865634bad"
      },
      "execution_count": null,
      "outputs": [
        {
          "output_type": "execute_result",
          "data": {
            "text/plain": [
              "                      conm   gvkey                                      add1  \\\n",
              "0    A & E PLASTIK PAK INC  001000                                      None   \n",
              "1  A & M FOOD SERVICES INC  001001                   1924 South Utica Avenue   \n",
              "2                 AAI CORP  001002                         124 Industry Lane   \n",
              "3    A.A. IMPORTING CO INC  001003                          7700 Hall Street   \n",
              "4                 AAR CORP  001004  One AAR Place, 1100 North Wood Dale Road   \n",
              "\n",
              "   add2  add3  add4      addzip  \\\n",
              "0  None  None  None        None   \n",
              "1  None  None  None       94104   \n",
              "2  None  None  None  21030-0126   \n",
              "3  None  None  None       63125   \n",
              "4  None  None  None       60191   \n",
              "\n",
              "                                             busdesc         cik         city  \\\n",
              "0                                               None        None         None   \n",
              "1                                               None  0000723576        Tulsa   \n",
              "2  Textron Systems Corporation designs, develops,...  0001306124  Hunt Valley   \n",
              "3  A.A. Importing Company, Inc. designs, manufact...  0000730052    St. Louis   \n",
              "4  AAR Corp. provides products and services to co...  0000001750    Wood Dale   \n",
              "\n",
              "   ... priusa   sic spcindcd spcseccd spcsrc state stko  \\\n",
              "0  ...     01  3089    325.0    978.0   None  None  0.0   \n",
              "1  ...     01  5812    420.0    978.0   None    OK  0.0   \n",
              "2  ...     01  3825    230.0    940.0   None    MD  0.0   \n",
              "3  ...     01  5712    449.0    976.0   None    MO  3.0   \n",
              "4  ...     01  5080    110.0    925.0      B    IL  0.0   \n",
              "\n",
              "                   weburl       dldte     ipodate  \n",
              "0                    None  1978-06-30        None  \n",
              "1                    None  1986-07-31        None  \n",
              "2  www.textronsystems.com  1977-03-31        None  \n",
              "3     www.aaimporting.com  1992-04-30        None  \n",
              "4         www.aarcorp.com        None  1988-01-01  \n",
              "\n",
              "[5 rows x 39 columns]"
            ],
            "text/html": [
              "\n",
              "  <div id=\"df-6f2a0bde-8138-4cf2-aab1-7474409e5389\">\n",
              "    <div class=\"colab-df-container\">\n",
              "      <div>\n",
              "<style scoped>\n",
              "    .dataframe tbody tr th:only-of-type {\n",
              "        vertical-align: middle;\n",
              "    }\n",
              "\n",
              "    .dataframe tbody tr th {\n",
              "        vertical-align: top;\n",
              "    }\n",
              "\n",
              "    .dataframe thead th {\n",
              "        text-align: right;\n",
              "    }\n",
              "</style>\n",
              "<table border=\"1\" class=\"dataframe\">\n",
              "  <thead>\n",
              "    <tr style=\"text-align: right;\">\n",
              "      <th></th>\n",
              "      <th>conm</th>\n",
              "      <th>gvkey</th>\n",
              "      <th>add1</th>\n",
              "      <th>add2</th>\n",
              "      <th>add3</th>\n",
              "      <th>add4</th>\n",
              "      <th>addzip</th>\n",
              "      <th>busdesc</th>\n",
              "      <th>cik</th>\n",
              "      <th>city</th>\n",
              "      <th>...</th>\n",
              "      <th>priusa</th>\n",
              "      <th>sic</th>\n",
              "      <th>spcindcd</th>\n",
              "      <th>spcseccd</th>\n",
              "      <th>spcsrc</th>\n",
              "      <th>state</th>\n",
              "      <th>stko</th>\n",
              "      <th>weburl</th>\n",
              "      <th>dldte</th>\n",
              "      <th>ipodate</th>\n",
              "    </tr>\n",
              "  </thead>\n",
              "  <tbody>\n",
              "    <tr>\n",
              "      <th>0</th>\n",
              "      <td>A &amp; E PLASTIK PAK INC</td>\n",
              "      <td>001000</td>\n",
              "      <td>None</td>\n",
              "      <td>None</td>\n",
              "      <td>None</td>\n",
              "      <td>None</td>\n",
              "      <td>None</td>\n",
              "      <td>None</td>\n",
              "      <td>None</td>\n",
              "      <td>None</td>\n",
              "      <td>...</td>\n",
              "      <td>01</td>\n",
              "      <td>3089</td>\n",
              "      <td>325.0</td>\n",
              "      <td>978.0</td>\n",
              "      <td>None</td>\n",
              "      <td>None</td>\n",
              "      <td>0.0</td>\n",
              "      <td>None</td>\n",
              "      <td>1978-06-30</td>\n",
              "      <td>None</td>\n",
              "    </tr>\n",
              "    <tr>\n",
              "      <th>1</th>\n",
              "      <td>A &amp; M FOOD SERVICES INC</td>\n",
              "      <td>001001</td>\n",
              "      <td>1924 South Utica Avenue</td>\n",
              "      <td>None</td>\n",
              "      <td>None</td>\n",
              "      <td>None</td>\n",
              "      <td>94104</td>\n",
              "      <td>None</td>\n",
              "      <td>0000723576</td>\n",
              "      <td>Tulsa</td>\n",
              "      <td>...</td>\n",
              "      <td>01</td>\n",
              "      <td>5812</td>\n",
              "      <td>420.0</td>\n",
              "      <td>978.0</td>\n",
              "      <td>None</td>\n",
              "      <td>OK</td>\n",
              "      <td>0.0</td>\n",
              "      <td>None</td>\n",
              "      <td>1986-07-31</td>\n",
              "      <td>None</td>\n",
              "    </tr>\n",
              "    <tr>\n",
              "      <th>2</th>\n",
              "      <td>AAI CORP</td>\n",
              "      <td>001002</td>\n",
              "      <td>124 Industry Lane</td>\n",
              "      <td>None</td>\n",
              "      <td>None</td>\n",
              "      <td>None</td>\n",
              "      <td>21030-0126</td>\n",
              "      <td>Textron Systems Corporation designs, develops,...</td>\n",
              "      <td>0001306124</td>\n",
              "      <td>Hunt Valley</td>\n",
              "      <td>...</td>\n",
              "      <td>01</td>\n",
              "      <td>3825</td>\n",
              "      <td>230.0</td>\n",
              "      <td>940.0</td>\n",
              "      <td>None</td>\n",
              "      <td>MD</td>\n",
              "      <td>0.0</td>\n",
              "      <td>www.textronsystems.com</td>\n",
              "      <td>1977-03-31</td>\n",
              "      <td>None</td>\n",
              "    </tr>\n",
              "    <tr>\n",
              "      <th>3</th>\n",
              "      <td>A.A. IMPORTING CO INC</td>\n",
              "      <td>001003</td>\n",
              "      <td>7700 Hall Street</td>\n",
              "      <td>None</td>\n",
              "      <td>None</td>\n",
              "      <td>None</td>\n",
              "      <td>63125</td>\n",
              "      <td>A.A. Importing Company, Inc. designs, manufact...</td>\n",
              "      <td>0000730052</td>\n",
              "      <td>St. Louis</td>\n",
              "      <td>...</td>\n",
              "      <td>01</td>\n",
              "      <td>5712</td>\n",
              "      <td>449.0</td>\n",
              "      <td>976.0</td>\n",
              "      <td>None</td>\n",
              "      <td>MO</td>\n",
              "      <td>3.0</td>\n",
              "      <td>www.aaimporting.com</td>\n",
              "      <td>1992-04-30</td>\n",
              "      <td>None</td>\n",
              "    </tr>\n",
              "    <tr>\n",
              "      <th>4</th>\n",
              "      <td>AAR CORP</td>\n",
              "      <td>001004</td>\n",
              "      <td>One AAR Place, 1100 North Wood Dale Road</td>\n",
              "      <td>None</td>\n",
              "      <td>None</td>\n",
              "      <td>None</td>\n",
              "      <td>60191</td>\n",
              "      <td>AAR Corp. provides products and services to co...</td>\n",
              "      <td>0000001750</td>\n",
              "      <td>Wood Dale</td>\n",
              "      <td>...</td>\n",
              "      <td>01</td>\n",
              "      <td>5080</td>\n",
              "      <td>110.0</td>\n",
              "      <td>925.0</td>\n",
              "      <td>B</td>\n",
              "      <td>IL</td>\n",
              "      <td>0.0</td>\n",
              "      <td>www.aarcorp.com</td>\n",
              "      <td>None</td>\n",
              "      <td>1988-01-01</td>\n",
              "    </tr>\n",
              "  </tbody>\n",
              "</table>\n",
              "<p>5 rows × 39 columns</p>\n",
              "</div>\n",
              "      <button class=\"colab-df-convert\" onclick=\"convertToInteractive('df-6f2a0bde-8138-4cf2-aab1-7474409e5389')\"\n",
              "              title=\"Convert this dataframe to an interactive table.\"\n",
              "              style=\"display:none;\">\n",
              "        \n",
              "  <svg xmlns=\"http://www.w3.org/2000/svg\" height=\"24px\"viewBox=\"0 0 24 24\"\n",
              "       width=\"24px\">\n",
              "    <path d=\"M0 0h24v24H0V0z\" fill=\"none\"/>\n",
              "    <path d=\"M18.56 5.44l.94 2.06.94-2.06 2.06-.94-2.06-.94-.94-2.06-.94 2.06-2.06.94zm-11 1L8.5 8.5l.94-2.06 2.06-.94-2.06-.94L8.5 2.5l-.94 2.06-2.06.94zm10 10l.94 2.06.94-2.06 2.06-.94-2.06-.94-.94-2.06-.94 2.06-2.06.94z\"/><path d=\"M17.41 7.96l-1.37-1.37c-.4-.4-.92-.59-1.43-.59-.52 0-1.04.2-1.43.59L10.3 9.45l-7.72 7.72c-.78.78-.78 2.05 0 2.83L4 21.41c.39.39.9.59 1.41.59.51 0 1.02-.2 1.41-.59l7.78-7.78 2.81-2.81c.8-.78.8-2.07 0-2.86zM5.41 20L4 18.59l7.72-7.72 1.47 1.35L5.41 20z\"/>\n",
              "  </svg>\n",
              "      </button>\n",
              "      \n",
              "  <style>\n",
              "    .colab-df-container {\n",
              "      display:flex;\n",
              "      flex-wrap:wrap;\n",
              "      gap: 12px;\n",
              "    }\n",
              "\n",
              "    .colab-df-convert {\n",
              "      background-color: #E8F0FE;\n",
              "      border: none;\n",
              "      border-radius: 50%;\n",
              "      cursor: pointer;\n",
              "      display: none;\n",
              "      fill: #1967D2;\n",
              "      height: 32px;\n",
              "      padding: 0 0 0 0;\n",
              "      width: 32px;\n",
              "    }\n",
              "\n",
              "    .colab-df-convert:hover {\n",
              "      background-color: #E2EBFA;\n",
              "      box-shadow: 0px 1px 2px rgba(60, 64, 67, 0.3), 0px 1px 3px 1px rgba(60, 64, 67, 0.15);\n",
              "      fill: #174EA6;\n",
              "    }\n",
              "\n",
              "    [theme=dark] .colab-df-convert {\n",
              "      background-color: #3B4455;\n",
              "      fill: #D2E3FC;\n",
              "    }\n",
              "\n",
              "    [theme=dark] .colab-df-convert:hover {\n",
              "      background-color: #434B5C;\n",
              "      box-shadow: 0px 1px 3px 1px rgba(0, 0, 0, 0.15);\n",
              "      filter: drop-shadow(0px 1px 2px rgba(0, 0, 0, 0.3));\n",
              "      fill: #FFFFFF;\n",
              "    }\n",
              "  </style>\n",
              "\n",
              "      <script>\n",
              "        const buttonEl =\n",
              "          document.querySelector('#df-6f2a0bde-8138-4cf2-aab1-7474409e5389 button.colab-df-convert');\n",
              "        buttonEl.style.display =\n",
              "          google.colab.kernel.accessAllowed ? 'block' : 'none';\n",
              "\n",
              "        async function convertToInteractive(key) {\n",
              "          const element = document.querySelector('#df-6f2a0bde-8138-4cf2-aab1-7474409e5389');\n",
              "          const dataTable =\n",
              "            await google.colab.kernel.invokeFunction('convertToInteractive',\n",
              "                                                     [key], {});\n",
              "          if (!dataTable) return;\n",
              "\n",
              "          const docLinkHtml = 'Like what you see? Visit the ' +\n",
              "            '<a target=\"_blank\" href=https://colab.research.google.com/notebooks/data_table.ipynb>data table notebook</a>'\n",
              "            + ' to learn more about interactive tables.';\n",
              "          element.innerHTML = '';\n",
              "          dataTable['output_type'] = 'display_data';\n",
              "          await google.colab.output.renderOutput(dataTable, element);\n",
              "          const docLink = document.createElement('div');\n",
              "          docLink.innerHTML = docLinkHtml;\n",
              "          element.appendChild(docLink);\n",
              "        }\n",
              "      </script>\n",
              "    </div>\n",
              "  </div>\n",
              "  "
            ]
          },
          "metadata": {},
          "execution_count": 6
        }
      ]
    },
    {
      "cell_type": "code",
      "source": [
        "# what the columns mean: https://library.unist.ac.kr/libguide/wp-content/uploads/sites/2/2018/11/compustat.pdf\n",
        "# S&P industry sector code: https://www.spglobal.com/marketintelligence/en/documents/112727-gics-mapbook_2018_v3_letter_digitalspreads.pdf\n",
        "\n",
        "comp_all = db.raw_sql(\"SELECT * FROM comp.company\")"
      ],
      "metadata": {
        "id": "s_lXW8Bx5t19"
      },
      "execution_count": null,
      "outputs": []
    },
    {
      "cell_type": "code",
      "source": [
        "comp_all.info()"
      ],
      "metadata": {
        "colab": {
          "base_uri": "https://localhost:8080/"
        },
        "id": "mZ1BAncpfNlb",
        "outputId": "6e7cf1ee-ace3-4aa1-8db9-7d99242674e1"
      },
      "execution_count": null,
      "outputs": [
        {
          "output_type": "stream",
          "name": "stdout",
          "text": [
            "<class 'pandas.core.frame.DataFrame'>\n",
            "RangeIndex: 52575 entries, 0 to 52574\n",
            "Data columns (total 39 columns):\n",
            " #   Column    Non-Null Count  Dtype  \n",
            "---  ------    --------------  -----  \n",
            " 0   conm      52575 non-null  object \n",
            " 1   gvkey     52575 non-null  object \n",
            " 2   add1      49572 non-null  object \n",
            " 3   add2      192 non-null    object \n",
            " 4   add3      34 non-null     object \n",
            " 5   add4      7 non-null      object \n",
            " 6   addzip    48903 non-null  object \n",
            " 7   busdesc   44735 non-null  object \n",
            " 8   cik       35924 non-null  object \n",
            " 9   city      49576 non-null  object \n",
            " 10  conml     52575 non-null  object \n",
            " 11  costat    52575 non-null  object \n",
            " 12  county    3622 non-null   object \n",
            " 13  dlrsn     34138 non-null  object \n",
            " 14  ein       27183 non-null  object \n",
            " 15  fax       21042 non-null  object \n",
            " 16  fic       51404 non-null  object \n",
            " 17  fyrc      52575 non-null  float64\n",
            " 18  ggroup    38350 non-null  object \n",
            " 19  gind      38350 non-null  object \n",
            " 20  gsector   38350 non-null  object \n",
            " 21  gsubind   38350 non-null  object \n",
            " 22  idbflag   52575 non-null  object \n",
            " 23  incorp    33766 non-null  object \n",
            " 24  loc       51621 non-null  object \n",
            " 25  naics     46511 non-null  object \n",
            " 26  phone     43552 non-null  object \n",
            " 27  prican    8652 non-null   object \n",
            " 28  prirow    2100 non-null   object \n",
            " 29  priusa    47057 non-null  object \n",
            " 30  sic       51368 non-null  object \n",
            " 31  spcindcd  26793 non-null  float64\n",
            " 32  spcseccd  26793 non-null  float64\n",
            " 33  spcsrc    8459 non-null   object \n",
            " 34  state     45642 non-null  object \n",
            " 35  stko      43803 non-null  float64\n",
            " 36  weburl    25078 non-null  object \n",
            " 37  dldte     34140 non-null  object \n",
            " 38  ipodate   16275 non-null  object \n",
            "dtypes: float64(4), object(35)\n",
            "memory usage: 15.6+ MB\n"
          ]
        }
      ]
    },
    {
      "cell_type": "code",
      "source": [
        "# check the digits of industry code to match the document from \n",
        "# https://www.spglobal.com/marketintelligence/en/documents/112727-gics-mapbook_2018_v3_letter_digitalspreads.pdf\n",
        "comp_all.gind"
      ],
      "metadata": {
        "colab": {
          "base_uri": "https://localhost:8080/"
        },
        "id": "_9aDLyj3ig0e",
        "outputId": "c0485172-b7b6-4c32-fb58-8557f2a7c704"
      },
      "execution_count": null,
      "outputs": [
        {
          "output_type": "execute_result",
          "data": {
            "text/plain": [
              "0          None\n",
              "1        253010\n",
              "2          None\n",
              "3        255040\n",
              "4        201010\n",
              "          ...  \n",
              "52570    151040\n",
              "52571    101020\n",
              "52572    303020\n",
              "52573    201040\n",
              "52574      None\n",
              "Name: gind, Length: 52575, dtype: object"
            ]
          },
          "metadata": {},
          "execution_count": 8
        }
      ]
    },
    {
      "cell_type": "code",
      "source": [
        "# https://wrds-www.wharton.upenn.edu/pages/support/manuals-and-overviews/compustat/trucost-esg/wrds-overview-of-sp-esg-trucost/\n",
        "# retrieve a list of pc companies\n",
        "\n",
        "comp_pc = db.raw_sql(\"SELECT conm, gvkey, cik FROM comp.company WHERE gind = '303020'\")\n",
        "comp_pc.to_csv('comp_pc.csv', index=False)"
      ],
      "metadata": {
        "id": "nkn3PbWOc2bE"
      },
      "execution_count": null,
      "outputs": []
    },
    {
      "cell_type": "code",
      "source": [
        "comp_pc.head()"
      ],
      "metadata": {
        "colab": {
          "base_uri": "https://localhost:8080/",
          "height": 206
        },
        "id": "M4osDxpkk7vl",
        "outputId": "f3817a64-00da-459f-8b6b-a5b3d5f2962c"
      },
      "execution_count": null,
      "outputs": [
        {
          "output_type": "execute_result",
          "data": {
            "text/plain": [
              "                conm   gvkey         cik\n",
              "0  ALBERTO-CULVER CO  001239  0001368457\n",
              "1   ADRIEN ARPEL INC  001260  0000724989\n",
              "2        DELSITE INC  001902  0000718007\n",
              "3      AVON PRODUCTS  001920  0000008868\n",
              "4          CARME INC  002773  0000357044"
            ],
            "text/html": [
              "\n",
              "  <div id=\"df-9a70118b-1036-463f-98d5-ffe1c86cc188\">\n",
              "    <div class=\"colab-df-container\">\n",
              "      <div>\n",
              "<style scoped>\n",
              "    .dataframe tbody tr th:only-of-type {\n",
              "        vertical-align: middle;\n",
              "    }\n",
              "\n",
              "    .dataframe tbody tr th {\n",
              "        vertical-align: top;\n",
              "    }\n",
              "\n",
              "    .dataframe thead th {\n",
              "        text-align: right;\n",
              "    }\n",
              "</style>\n",
              "<table border=\"1\" class=\"dataframe\">\n",
              "  <thead>\n",
              "    <tr style=\"text-align: right;\">\n",
              "      <th></th>\n",
              "      <th>conm</th>\n",
              "      <th>gvkey</th>\n",
              "      <th>cik</th>\n",
              "    </tr>\n",
              "  </thead>\n",
              "  <tbody>\n",
              "    <tr>\n",
              "      <th>0</th>\n",
              "      <td>ALBERTO-CULVER CO</td>\n",
              "      <td>001239</td>\n",
              "      <td>0001368457</td>\n",
              "    </tr>\n",
              "    <tr>\n",
              "      <th>1</th>\n",
              "      <td>ADRIEN ARPEL INC</td>\n",
              "      <td>001260</td>\n",
              "      <td>0000724989</td>\n",
              "    </tr>\n",
              "    <tr>\n",
              "      <th>2</th>\n",
              "      <td>DELSITE INC</td>\n",
              "      <td>001902</td>\n",
              "      <td>0000718007</td>\n",
              "    </tr>\n",
              "    <tr>\n",
              "      <th>3</th>\n",
              "      <td>AVON PRODUCTS</td>\n",
              "      <td>001920</td>\n",
              "      <td>0000008868</td>\n",
              "    </tr>\n",
              "    <tr>\n",
              "      <th>4</th>\n",
              "      <td>CARME INC</td>\n",
              "      <td>002773</td>\n",
              "      <td>0000357044</td>\n",
              "    </tr>\n",
              "  </tbody>\n",
              "</table>\n",
              "</div>\n",
              "      <button class=\"colab-df-convert\" onclick=\"convertToInteractive('df-9a70118b-1036-463f-98d5-ffe1c86cc188')\"\n",
              "              title=\"Convert this dataframe to an interactive table.\"\n",
              "              style=\"display:none;\">\n",
              "        \n",
              "  <svg xmlns=\"http://www.w3.org/2000/svg\" height=\"24px\"viewBox=\"0 0 24 24\"\n",
              "       width=\"24px\">\n",
              "    <path d=\"M0 0h24v24H0V0z\" fill=\"none\"/>\n",
              "    <path d=\"M18.56 5.44l.94 2.06.94-2.06 2.06-.94-2.06-.94-.94-2.06-.94 2.06-2.06.94zm-11 1L8.5 8.5l.94-2.06 2.06-.94-2.06-.94L8.5 2.5l-.94 2.06-2.06.94zm10 10l.94 2.06.94-2.06 2.06-.94-2.06-.94-.94-2.06-.94 2.06-2.06.94z\"/><path d=\"M17.41 7.96l-1.37-1.37c-.4-.4-.92-.59-1.43-.59-.52 0-1.04.2-1.43.59L10.3 9.45l-7.72 7.72c-.78.78-.78 2.05 0 2.83L4 21.41c.39.39.9.59 1.41.59.51 0 1.02-.2 1.41-.59l7.78-7.78 2.81-2.81c.8-.78.8-2.07 0-2.86zM5.41 20L4 18.59l7.72-7.72 1.47 1.35L5.41 20z\"/>\n",
              "  </svg>\n",
              "      </button>\n",
              "      \n",
              "  <style>\n",
              "    .colab-df-container {\n",
              "      display:flex;\n",
              "      flex-wrap:wrap;\n",
              "      gap: 12px;\n",
              "    }\n",
              "\n",
              "    .colab-df-convert {\n",
              "      background-color: #E8F0FE;\n",
              "      border: none;\n",
              "      border-radius: 50%;\n",
              "      cursor: pointer;\n",
              "      display: none;\n",
              "      fill: #1967D2;\n",
              "      height: 32px;\n",
              "      padding: 0 0 0 0;\n",
              "      width: 32px;\n",
              "    }\n",
              "\n",
              "    .colab-df-convert:hover {\n",
              "      background-color: #E2EBFA;\n",
              "      box-shadow: 0px 1px 2px rgba(60, 64, 67, 0.3), 0px 1px 3px 1px rgba(60, 64, 67, 0.15);\n",
              "      fill: #174EA6;\n",
              "    }\n",
              "\n",
              "    [theme=dark] .colab-df-convert {\n",
              "      background-color: #3B4455;\n",
              "      fill: #D2E3FC;\n",
              "    }\n",
              "\n",
              "    [theme=dark] .colab-df-convert:hover {\n",
              "      background-color: #434B5C;\n",
              "      box-shadow: 0px 1px 3px 1px rgba(0, 0, 0, 0.15);\n",
              "      filter: drop-shadow(0px 1px 2px rgba(0, 0, 0, 0.3));\n",
              "      fill: #FFFFFF;\n",
              "    }\n",
              "  </style>\n",
              "\n",
              "      <script>\n",
              "        const buttonEl =\n",
              "          document.querySelector('#df-9a70118b-1036-463f-98d5-ffe1c86cc188 button.colab-df-convert');\n",
              "        buttonEl.style.display =\n",
              "          google.colab.kernel.accessAllowed ? 'block' : 'none';\n",
              "\n",
              "        async function convertToInteractive(key) {\n",
              "          const element = document.querySelector('#df-9a70118b-1036-463f-98d5-ffe1c86cc188');\n",
              "          const dataTable =\n",
              "            await google.colab.kernel.invokeFunction('convertToInteractive',\n",
              "                                                     [key], {});\n",
              "          if (!dataTable) return;\n",
              "\n",
              "          const docLinkHtml = 'Like what you see? Visit the ' +\n",
              "            '<a target=\"_blank\" href=https://colab.research.google.com/notebooks/data_table.ipynb>data table notebook</a>'\n",
              "            + ' to learn more about interactive tables.';\n",
              "          element.innerHTML = '';\n",
              "          dataTable['output_type'] = 'display_data';\n",
              "          await google.colab.output.renderOutput(dataTable, element);\n",
              "          const docLink = document.createElement('div');\n",
              "          docLink.innerHTML = docLinkHtml;\n",
              "          element.appendChild(docLink);\n",
              "        }\n",
              "      </script>\n",
              "    </div>\n",
              "  </div>\n",
              "  "
            ]
          },
          "metadata": {},
          "execution_count": 10
        }
      ]
    },
    {
      "cell_type": "code",
      "source": [
        "comp_pc.info()"
      ],
      "metadata": {
        "colab": {
          "base_uri": "https://localhost:8080/"
        },
        "id": "pU3KL0oclOdX",
        "outputId": "adc1eff4-688f-41b0-e043-fcca852432d8"
      },
      "execution_count": null,
      "outputs": [
        {
          "output_type": "stream",
          "name": "stdout",
          "text": [
            "<class 'pandas.core.frame.DataFrame'>\n",
            "RangeIndex: 311 entries, 0 to 310\n",
            "Data columns (total 3 columns):\n",
            " #   Column  Non-Null Count  Dtype \n",
            "---  ------  --------------  ----- \n",
            " 0   conm    311 non-null    object\n",
            " 1   gvkey   311 non-null    object\n",
            " 2   cik     261 non-null    object\n",
            "dtypes: object(3)\n",
            "memory usage: 7.4+ KB\n"
          ]
        }
      ]
    },
    {
      "cell_type": "code",
      "source": [
        "pc_gvkey = comp_pc.gvkey"
      ],
      "metadata": {
        "id": "TAOjcvgUr1it"
      },
      "execution_count": null,
      "outputs": []
    },
    {
      "cell_type": "code",
      "source": [
        "pc_gvkey"
      ],
      "metadata": {
        "colab": {
          "base_uri": "https://localhost:8080/"
        },
        "id": "jKtVOP4NsYig",
        "outputId": "3f7a5795-c2f2-4be6-ba42-fe3e6daa9b58"
      },
      "execution_count": null,
      "outputs": [
        {
          "output_type": "execute_result",
          "data": {
            "text/plain": [
              "0      001239\n",
              "1      001260\n",
              "2      001902\n",
              "3      001920\n",
              "4      002773\n",
              "        ...  \n",
              "306    270509\n",
              "307    272705\n",
              "308    281468\n",
              "309    351458\n",
              "310    353444\n",
              "Name: gvkey, Length: 311, dtype: object"
            ]
          },
          "metadata": {},
          "execution_count": 17
        }
      ]
    },
    {
      "cell_type": "markdown",
      "source": [
        "#### Map to institution id"
      ],
      "metadata": {
        "id": "H-CMrF3Wm8NU"
      }
    },
    {
      "cell_type": "code",
      "source": [
        "# Run query to understand dataset columns\n",
        "comp_institutionid = db.raw_sql(\"SELECT * FROM snl.wrds_institutions\")\n",
        "comp_institutionid.to_csv('comp_institutionid.csv', index=False)"
      ],
      "metadata": {
        "id": "NMpSUnKFmz5F"
      },
      "execution_count": null,
      "outputs": []
    },
    {
      "cell_type": "markdown",
      "source": [
        "### Trucost Common Lookup"
      ],
      "metadata": {
        "id": "fc0p-gRGgZHP"
      }
    },
    {
      "cell_type": "code",
      "source": [
        "# https://wrds-www.wharton.upenn.edu/data-dictionary/trucost_common/\n",
        "trucost_map = db.raw_sql(\"SELECT companyid, companyname, gvkey, institutionid, ticker FROM trucost_common.wrds_companies LIMIT10\") \n",
        "trucost_map.to_csv('trucost_map.csv', index=False)"
      ],
      "metadata": {
        "id": "ah13OLLDgbr4"
      },
      "execution_count": null,
      "outputs": []
    },
    {
      "cell_type": "code",
      "source": [
        "! cp \"/content/trucost_map.csv\" \"/content/drive/MyDrive\""
      ],
      "metadata": {
        "id": "Vo-tidJyD-F_"
      },
      "execution_count": null,
      "outputs": []
    },
    {
      "cell_type": "code",
      "source": [
        "trucost_map.info()"
      ],
      "metadata": {
        "colab": {
          "base_uri": "https://localhost:8080/"
        },
        "id": "cxbe1DC3Du4i",
        "outputId": "1089c303-396b-43e1-ff11-d6f7b1165814"
      },
      "execution_count": null,
      "outputs": [
        {
          "output_type": "stream",
          "name": "stdout",
          "text": [
            "<class 'pandas.core.frame.DataFrame'>\n",
            "Int64Index: 21985231 entries, 0 to 485230\n",
            "Data columns (total 5 columns):\n",
            " #   Column         Dtype  \n",
            "---  ------         -----  \n",
            " 0   companyid      float64\n",
            " 1   companyname    object \n",
            " 2   gvkey          object \n",
            " 3   institutionid  float64\n",
            " 4   ticker         object \n",
            "dtypes: float64(2), object(3)\n",
            "memory usage: 1006.4+ MB\n"
          ]
        }
      ]
    },
    {
      "cell_type": "markdown",
      "source": [
        "### ESG scores for personal care companies"
      ],
      "metadata": {
        "id": "DABHvbWnlgTG"
      }
    },
    {
      "cell_type": "code",
      "source": [
        "esg_all = db.raw_sql(\"SELECT * FROM sp_esg.wrds_esg\")\n",
        "esg_all.to_csv('esg_all.csv', index=False)"
      ],
      "metadata": {
        "id": "aOhYrJ0Qk7rB"
      },
      "execution_count": null,
      "outputs": []
    },
    {
      "cell_type": "code",
      "source": [
        "# path = '/content/esg_all.csv'\n",
        "!cp \"/content/esg_all.csv\" \"/content/drive/MyDrive\""
      ],
      "metadata": {
        "id": "BnAh-woEuh6K"
      },
      "execution_count": null,
      "outputs": []
    },
    {
      "cell_type": "code",
      "source": [
        "esg_pc = db.raw_sql(\"SELECT * FROM sp_esg.wrds_esg WHERE csaindustryname = 'COS Personal Products'\")\n",
        "esg_pc.to_csv('esg_pc.csv', index=False)"
      ],
      "metadata": {
        "id": "KRZJXcPt-6dS"
      },
      "execution_count": null,
      "outputs": []
    },
    {
      "cell_type": "code",
      "source": [
        "esg_pc.info()"
      ],
      "metadata": {
        "colab": {
          "base_uri": "https://localhost:8080/"
        },
        "id": "iUmg-psCoUE4",
        "outputId": "7469ebca-298a-4390-b92c-b2cce00b3e33"
      },
      "execution_count": null,
      "outputs": [
        {
          "output_type": "stream",
          "name": "stdout",
          "text": [
            "<class 'pandas.core.frame.DataFrame'>\n",
            "RangeIndex: 25232 entries, 0 to 25231\n",
            "Data columns (total 40 columns):\n",
            " #   Column                         Non-Null Count  Dtype  \n",
            "---  ------                         --------------  -----  \n",
            " 0   scoreid                        25232 non-null  object \n",
            " 1   dimensionscoreid               25232 non-null  object \n",
            " 2   criteriascoreid                21916 non-null  object \n",
            " 3   institutionid                  25232 non-null  float64\n",
            " 4   assessmentyear                 25232 non-null  float64\n",
            " 5   scoredate                      25232 non-null  object \n",
            " 6   mostrecentsequence             25232 non-null  float64\n",
            " 7   csaindustrymapid               25232 non-null  object \n",
            " 8   csaindustryname                25232 non-null  object \n",
            " 9   csaindustrygroupname           25232 non-null  object \n",
            " 10  csaindustryclassificationname  25232 non-null  object \n",
            " 11  csasectorname                  25232 non-null  object \n",
            " 12  campaignname                   25232 non-null  object \n",
            " 13  campaignstartdate              25232 non-null  object \n",
            " 14  campaignenddate                25232 non-null  object \n",
            " 15  campaigntypename               25232 non-null  object \n",
            " 16  campaigntypecode               25232 non-null  object \n",
            " 17  csasharinglevelname            25232 non-null  object \n",
            " 18  csascoretypename               25232 non-null  object \n",
            " 19  scoretype                      25232 non-null  object \n",
            " 20  dimensionname                  25232 non-null  object \n",
            " 21  aspectname                     25232 non-null  object \n",
            " 22  aspectnote                     643 non-null    object \n",
            " 23  scorevalue                     24593 non-null  float64\n",
            " 24  scoreweight                    24403 non-null  float64\n",
            " 25  scoreyoy                       18319 non-null  float64\n",
            " 26  industryrank                   24593 non-null  float64\n",
            " 27  scoreest                       10650 non-null  float64\n",
            " 28  scoreestwtd                    1420 non-null   float64\n",
            " 29  msacaseid                      20 non-null     object \n",
            " 30  msacasedate                    20 non-null     object \n",
            " 31  msacasetitle                   20 non-null     object \n",
            " 32  msacasescore                   20 non-null     float64\n",
            " 33  msacaseimpactlevelname         20 non-null     object \n",
            " 34  msacaseimpactrating            20 non-null     float64\n",
            " 35  msacaseresponsename            20 non-null     object \n",
            " 36  msacaseresponserating          20 non-null     float64\n",
            " 37  msaimpactid                    19 non-null     object \n",
            " 38  msaimpactdate                  19 non-null     object \n",
            " 39  criteriascoreimpact            19 non-null     float64\n",
            "dtypes: float64(13), object(27)\n",
            "memory usage: 7.7+ MB\n"
          ]
        }
      ]
    },
    {
      "cell_type": "code",
      "source": [
        "esg_pc.csaindustrygroupname.value_counts()"
      ],
      "metadata": {
        "id": "M60U83Lak7cX",
        "colab": {
          "base_uri": "https://localhost:8080/"
        },
        "outputId": "d76c319e-8d88-472c-9bcd-c3d37ec85b23"
      },
      "execution_count": null,
      "outputs": [
        {
          "output_type": "execute_result",
          "data": {
            "text/plain": [
              "Household & Personal Products    25232\n",
              "Name: csaindustrygroupname, dtype: int64"
            ]
          },
          "metadata": {},
          "execution_count": 9
        }
      ]
    },
    {
      "cell_type": "code",
      "source": [
        "# close WRDS connection\n",
        "db.close()"
      ],
      "metadata": {
        "id": "1UBkTFxvDuZS"
      },
      "execution_count": null,
      "outputs": []
    },
    {
      "cell_type": "code",
      "source": [
        "# If have time, query financial datasets (EBIT & EBITDA)"
      ],
      "metadata": {
        "id": "60yVYR0gxHkb"
      },
      "execution_count": null,
      "outputs": []
    }
  ]
}